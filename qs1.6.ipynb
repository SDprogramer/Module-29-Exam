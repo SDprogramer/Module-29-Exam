{
 "cells": [
  {
   "cell_type": "code",
   "execution_count": null,
   "id": "ed31308e-1ed1-4375-b654-808eb95fd115",
   "metadata": {},
   "outputs": [],
   "source": [
    "col = input(\"Enter colour RED/YELLOW/GREEN = \").upper()\n",
    "\n",
    "if col == \"RED\":\n",
    "    print(\"STOP\")\n",
    "elif col == \"YELLOW\":\n",
    "    print(\"STAY\")\n",
    "elif col == \"GREEN\":\n",
    "    print(\"GO\")\n",
    "else:\n",
    "    print(\"INVALID INPUT\")"
   ]
  },
  {
   "cell_type": "code",
   "execution_count": null,
   "id": "63049b12-713a-45ce-b6b5-dc262dbeef7d",
   "metadata": {},
   "outputs": [],
   "source": []
  }
 ],
 "metadata": {
  "kernelspec": {
   "display_name": "Python 3 (ipykernel)",
   "language": "python",
   "name": "python3"
  },
  "language_info": {
   "codemirror_mode": {
    "name": "ipython",
    "version": 3
   },
   "file_extension": ".py",
   "mimetype": "text/x-python",
   "name": "python",
   "nbconvert_exporter": "python",
   "pygments_lexer": "ipython3",
   "version": "3.10.8"
  }
 },
 "nbformat": 4,
 "nbformat_minor": 5
}
