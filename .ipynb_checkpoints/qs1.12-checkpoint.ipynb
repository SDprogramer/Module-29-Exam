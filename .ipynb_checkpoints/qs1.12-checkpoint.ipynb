{
 "cells": [
  {
   "cell_type": "code",
   "execution_count": null,
   "id": "441bb98a-0942-4a9a-823f-25de1fdb084b",
   "metadata": {},
   "outputs": [],
   "source": [
    "sum = 0\n",
    "for i in range(5):\n",
    "    n = float(input(\"Enter marks = \"))\n",
    "    i += 1\n",
    "    sum += n\n",
    "    \n",
    "p = sum / 5\n",
    "print(f\"Percentage = {p}\")\n",
    "      \n",
    "if p > 85:\n",
    "      print(\"A\")\n",
    "elif p >= 75 and p < 85:\n",
    "      print(\"B\")\n",
    "elif p >= 50 and p < 75:\n",
    "      print(\"C\")\n",
    "elif p > 30 and p <= 50:\n",
    "      print(\"D\")\n",
    "else:\n",
    "      print(\"REAPPEAR\")"
   ]
  },
  {
   "cell_type": "code",
   "execution_count": null,
   "id": "aa003fdb-7e4a-4143-9540-5311146012dc",
   "metadata": {},
   "outputs": [],
   "source": []
  }
 ],
 "metadata": {
  "kernelspec": {
   "display_name": "Python 3 (ipykernel)",
   "language": "python",
   "name": "python3"
  },
  "language_info": {
   "codemirror_mode": {
    "name": "ipython",
    "version": 3
   },
   "file_extension": ".py",
   "mimetype": "text/x-python",
   "name": "python",
   "nbconvert_exporter": "python",
   "pygments_lexer": "ipython3",
   "version": "3.10.8"
  }
 },
 "nbformat": 4,
 "nbformat_minor": 5
}
