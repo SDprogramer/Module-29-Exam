{
 "cells": [
  {
   "cell_type": "code",
   "execution_count": null,
   "id": "4558ab78-f58b-4b1a-8fdf-529f4de8f164",
   "metadata": {},
   "outputs": [],
   "source": [
    "# me = mass of earth\n",
    "# mm = mass of moon\n",
    "# ms = mass of sun\n",
    "\n",
    "# em = distance between earth and moon\n",
    "# es = distance between earth and sun\n",
    "\n",
    "me = float(input(\"Enter mass of earth = \"))\n",
    "mm = float(input(\"Enter mass of moon = \"))\n",
    "ms = float(input(\"Enter mass of sun = \"))\n",
    "\n",
    "em = float(input(\"Enter distance b/w earth & moon = \"))\n",
    "es = float(input(\"Enter distance b/w earth & sun = \"))\n",
    "\n",
    "ges = (me * ms) / (es * es)\n",
    "gem = (me * mm) / (em * em)\n",
    "\n",
    "if ges > gem:\n",
    "    print(\"Gravitational force of earth-sun is stronger then earth-moon\")\n",
    "    print(\"Earth-sun is more attracted towards each other\")\n",
    "else:\n",
    "    print(\"Gravitational force of earth-moon is stronger then earth-sun\")\n",
    "    print(\"Earth-moon is more attracted towards each other\")"
   ]
  },
  {
   "cell_type": "code",
   "execution_count": null,
   "id": "1c957fa6-5f93-48aa-8177-c9e546bc2b2d",
   "metadata": {},
   "outputs": [],
   "source": []
  }
 ],
 "metadata": {
  "kernelspec": {
   "display_name": "Python 3 (ipykernel)",
   "language": "python",
   "name": "python3"
  },
  "language_info": {
   "codemirror_mode": {
    "name": "ipython",
    "version": 3
   },
   "file_extension": ".py",
   "mimetype": "text/x-python",
   "name": "python",
   "nbconvert_exporter": "python",
   "pygments_lexer": "ipython3",
   "version": "3.10.8"
  }
 },
 "nbformat": 4,
 "nbformat_minor": 5
}
