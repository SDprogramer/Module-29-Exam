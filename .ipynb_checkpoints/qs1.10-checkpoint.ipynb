{
 "cells": [
  {
   "cell_type": "code",
   "execution_count": 6,
   "id": "ee22e1d0-8363-48dd-ad81-fc5acf788269",
   "metadata": {},
   "outputs": [
    {
     "name": "stdin",
     "output_type": "stream",
     "text": [
      "Enter positive numbers =  1\n",
      "Enter positive numbers =  2\n",
      "Enter positive numbers =  3\n",
      "Enter positive numbers =  4\n",
      "Enter positive numbers =  5\n",
      "Enter positive numbers =  6\n",
      "Enter positive numbers =  7\n",
      "Enter positive numbers =  8\n",
      "Enter positive numbers =  9\n",
      "Enter positive numbers =  -9\n"
     ]
    },
    {
     "name": "stdout",
     "output_type": "stream",
     "text": [
      "The sum is = 45\n"
     ]
    }
   ],
   "source": [
    "def sum(curr_sum, no):\n",
    "    return curr_sum + no\n",
    "\n",
    "s = 0\n",
    "while True:\n",
    "    n = int(input(\"Enter positive numbers = \"))\n",
    "    \n",
    "    if n < 0:\n",
    "        break\n",
    "    \n",
    "    s = sum(s, n)\n",
    "\n",
    "print(f\"The sum is = {s}\")"
   ]
  },
  {
   "cell_type": "code",
   "execution_count": null,
   "id": "a65940bf-dbee-44e5-92ee-e45628ecf4be",
   "metadata": {},
   "outputs": [],
   "source": []
  }
 ],
 "metadata": {
  "kernelspec": {
   "display_name": "Python 3 (ipykernel)",
   "language": "python",
   "name": "python3"
  },
  "language_info": {
   "codemirror_mode": {
    "name": "ipython",
    "version": 3
   },
   "file_extension": ".py",
   "mimetype": "text/x-python",
   "name": "python",
   "nbconvert_exporter": "python",
   "pygments_lexer": "ipython3",
   "version": "3.10.8"
  }
 },
 "nbformat": 4,
 "nbformat_minor": 5
}
