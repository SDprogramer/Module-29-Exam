{
 "cells": [
  {
   "cell_type": "markdown",
   "id": "f17567a1-4862-4b17-a225-3fec1fc37ed3",
   "metadata": {},
   "source": [
    "TEST COMMIT"
   ]
  },
  {
   "cell_type": "code",
   "execution_count": null,
   "id": "edf5ac94-4d12-4fd7-8934-5cbf0a5111cb",
   "metadata": {},
   "outputs": [],
   "source": [
    "# My name is Soumyadeep Dey\n",
    "# This is my initial commit"
   ]
  }
 ],
 "metadata": {
  "kernelspec": {
   "display_name": "Python 3 (ipykernel)",
   "language": "python",
   "name": "python3"
  },
  "language_info": {
   "codemirror_mode": {
    "name": "ipython",
    "version": 3
   },
   "file_extension": ".py",
   "mimetype": "text/x-python",
   "name": "python",
   "nbconvert_exporter": "python",
   "pygments_lexer": "ipython3",
   "version": "3.10.8"
  }
 },
 "nbformat": 4,
 "nbformat_minor": 5
}
