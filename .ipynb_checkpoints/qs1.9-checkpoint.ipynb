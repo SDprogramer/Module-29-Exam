{
 "cells": [
  {
   "cell_type": "code",
   "execution_count": null,
   "id": "cada83b1-bbd3-4008-ac68-b97f9d482d5a",
   "metadata": {},
   "outputs": [],
   "source": [
    "def fact(no):\n",
    "    i = 1\n",
    "    f = []\n",
    "    while i <= no:\n",
    "        if no % i == 0:\n",
    "            f.append(i)\n",
    "        i = i + 1\n",
    "    return f\n",
    "\n",
    "no = int(input(\"Enter a number = \"))\n",
    "\n",
    "factors = fact(no)\n",
    "\n",
    "print(f\"The factors of {no} are = {factors}\")"
   ]
  },
  {
   "cell_type": "code",
   "execution_count": null,
   "id": "705cb577-425b-4d53-bb77-80862c7cbed4",
   "metadata": {},
   "outputs": [],
   "source": []
  }
 ],
 "metadata": {
  "kernelspec": {
   "display_name": "Python 3 (ipykernel)",
   "language": "python",
   "name": "python3"
  },
  "language_info": {
   "codemirror_mode": {
    "name": "ipython",
    "version": 3
   },
   "file_extension": ".py",
   "mimetype": "text/x-python",
   "name": "python",
   "nbconvert_exporter": "python",
   "pygments_lexer": "ipython3",
   "version": "3.10.8"
  }
 },
 "nbformat": 4,
 "nbformat_minor": 5
}
