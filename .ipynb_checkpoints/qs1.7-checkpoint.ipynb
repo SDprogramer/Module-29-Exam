{
 "cells": [
  {
   "cell_type": "code",
   "execution_count": null,
   "id": "ed861590-4252-4516-8841-6ff489720142",
   "metadata": {},
   "outputs": [],
   "source": [
    "def calc(num1, num2, op):\n",
    "    if op == \"+\":\n",
    "        return num1 + num2\n",
    "    elif op == \"-\":\n",
    "        return num1 - num2\n",
    "    elif op == \"*\":\n",
    "        return num1 * num2\n",
    "    elif op == \"/\":\n",
    "        if(num2 != 0):\n",
    "            return num1 / num2\n",
    "        else:\n",
    "            return \"Invalid operation\"\n",
    "    else:\n",
    "        return \"INVALID OPERATOR\"\n",
    "    \n",
    "num1 = float(input(\"Enter the first number = \"))\n",
    "num2 = float(input(\"Enter the second number = \"))\n",
    "operator = input(\"Enter the operartion(+ - * /) = \")\n",
    "\n",
    "res = calc(num1, num2, operator)\n",
    "print(f\"The result is = {res}\")"
   ]
  },
  {
   "cell_type": "code",
   "execution_count": null,
   "id": "eacb8e6a-be1f-4085-ada9-31d9aac59995",
   "metadata": {},
   "outputs": [],
   "source": []
  }
 ],
 "metadata": {
  "kernelspec": {
   "display_name": "Python 3 (ipykernel)",
   "language": "python",
   "name": "python3"
  },
  "language_info": {
   "codemirror_mode": {
    "name": "ipython",
    "version": 3
   },
   "file_extension": ".py",
   "mimetype": "text/x-python",
   "name": "python",
   "nbconvert_exporter": "python",
   "pygments_lexer": "ipython3",
   "version": "3.10.8"
  }
 },
 "nbformat": 4,
 "nbformat_minor": 5
}
