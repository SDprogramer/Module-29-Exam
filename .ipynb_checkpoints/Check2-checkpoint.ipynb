{
 "cells": [
  {
   "cell_type": "markdown",
   "id": "3b551846-51a4-45db-94ea-1b38e2e3bb01",
   "metadata": {},
   "source": [
    "SECOND CHECK"
   ]
  },
  {
   "cell_type": "code",
   "execution_count": null,
   "id": "92bf8dce-5964-43ad-89e4-0300fce3f30e",
   "metadata": {},
   "outputs": [],
   "source": [
    "# Check 2"
   ]
  }
 ],
 "metadata": {
  "kernelspec": {
   "display_name": "Python 3 (ipykernel)",
   "language": "python",
   "name": "python3"
  },
  "language_info": {
   "codemirror_mode": {
    "name": "ipython",
    "version": 3
   },
   "file_extension": ".py",
   "mimetype": "text/x-python",
   "name": "python",
   "nbconvert_exporter": "python",
   "pygments_lexer": "ipython3",
   "version": "3.10.8"
  }
 },
 "nbformat": 4,
 "nbformat_minor": 5
}
